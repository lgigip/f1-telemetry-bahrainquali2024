{
 "cells": [
  {
   "cell_type": "code",
   "execution_count": 4,
   "id": "b5550979-2b9d-4e89-8cc0-a8b71870230b",
   "metadata": {},
   "outputs": [
    {
     "ename": "NotADirectoryError",
     "evalue": "Cache directory does not exist! Please check for typos or create it first.",
     "output_type": "error",
     "traceback": [
      "\u001b[31m---------------------------------------------------------------------------\u001b[39m",
      "\u001b[31mNotADirectoryError\u001b[39m                        Traceback (most recent call last)",
      "\u001b[36mCell\u001b[39m\u001b[36m \u001b[39m\u001b[32mIn[4]\u001b[39m\u001b[32m, line 10\u001b[39m\n\u001b[32m      8\u001b[39m \u001b[38;5;66;03m# Enable matplotlib and cache\u001b[39;00m\n\u001b[32m      9\u001b[39m fastf1.plotting.setup_mpl(misc_mpl_mods=\u001b[38;5;28;01mFalse\u001b[39;00m)\n\u001b[32m---> \u001b[39m\u001b[32m10\u001b[39m \u001b[43mfastf1\u001b[49m\u001b[43m.\u001b[49m\u001b[43mCache\u001b[49m\u001b[43m.\u001b[49m\u001b[43menable_cache\u001b[49m\u001b[43m(\u001b[49m\u001b[33;43m'\u001b[39;49m\u001b[33;43mcache\u001b[39;49m\u001b[33;43m'\u001b[39;49m\u001b[43m)\u001b[49m  \u001b[38;5;66;03m# Creates a folder 'cache' for speed\u001b[39;00m\n\u001b[32m     12\u001b[39m \u001b[38;5;66;03m# Load a session (2023 Bahrain GP, Qualifying as an example)\u001b[39;00m\n\u001b[32m     13\u001b[39m session = fastf1.get_session(\u001b[32m2023\u001b[39m, \u001b[33m'\u001b[39m\u001b[33mBahrain\u001b[39m\u001b[33m'\u001b[39m, \u001b[33m'\u001b[39m\u001b[33mQ\u001b[39m\u001b[33m'\u001b[39m)\n",
      "\u001b[36mFile \u001b[39m\u001b[32m~\\AppData\\Local\\Programs\\Python\\Python313\\Lib\\site-packages\\fastf1\\req.py:262\u001b[39m, in \u001b[36mCache.enable_cache\u001b[39m\u001b[34m(cls, cache_dir, ignore_version, force_renew, use_requests_cache)\u001b[39m\n\u001b[32m    259\u001b[39m cache_dir = os.path.expanduser(cache_dir)\n\u001b[32m    261\u001b[39m \u001b[38;5;28;01mif\u001b[39;00m \u001b[38;5;129;01mnot\u001b[39;00m os.path.exists(cache_dir):\n\u001b[32m--> \u001b[39m\u001b[32m262\u001b[39m     \u001b[38;5;28;01mraise\u001b[39;00m \u001b[38;5;167;01mNotADirectoryError\u001b[39;00m(\u001b[33m\"\u001b[39m\u001b[33mCache directory does not exist! Please \u001b[39m\u001b[33m\"\u001b[39m\n\u001b[32m    263\u001b[39m                              \u001b[33m\"\u001b[39m\u001b[33mcheck for typos or create it first.\u001b[39m\u001b[33m\"\u001b[39m)\n\u001b[32m    264\u001b[39m \u001b[38;5;28mcls\u001b[39m._CACHE_DIR = cache_dir\n\u001b[32m    265\u001b[39m \u001b[38;5;28mcls\u001b[39m._IGNORE_VERSION = ignore_version\n",
      "\u001b[31mNotADirectoryError\u001b[39m: Cache directory does not exist! Please check for typos or create it first."
     ]
    }
   ],
   "source": [
    "# F1 Telemetry Analysis: Verstappen vs Hamilton\n",
    "# Requires: fastf1, matplotlib, pandas\n",
    "\n",
    "import fastf1\n",
    "import fastf1.plotting\n",
    "import matplotlib.pyplot as plt\n",
    "\n",
    "# Enable matplotlib and cache\n",
    "fastf1.plotting.setup_mpl(misc_mpl_mods=False)\n",
    "fastf1.Cache.enable_cache('cache')  # Creates a folder 'cache' for speed\n",
    "\n",
    "# Load a session (2023 Bahrain GP, Qualifying as an example)\n",
    "session = fastf1.get_session(2023, 'Bahrain', 'Q')\n",
    "session.load()\n",
    "\n",
    "# Pick two drivers\n",
    "verstappen = session.laps.pick_driver('VER').pick_fastest()\n",
    "hamilton = session.laps.pick_driver('HAM').pick_fastest()\n",
    "\n",
    "# Get telemetry\n",
    "ver_tel = verstappen.get_car_data().add_distance()\n",
    "ham_tel = hamilton.get_car_data().add_distance()\n",
    "\n",
    "# Plot Speed Comparison\n",
    "plt.figure(figsize=(12, 6))\n",
    "plt.plot(ver_tel['Distance'], ver_tel['Speed'], label='Verstappen', color='red')\n",
    "plt.plot(ham_tel['Distance'], ham_tel['Speed'], label='Hamilton', color='blue')\n",
    "plt.title(\"Fastest Lap Comparison – Speed (Bahrain GP 2023 Quali)\")\n",
    "plt.xlabel(\"Lap Distance (m)\")\n",
    "plt.ylabel(\"Speed (km/h)\")\n",
    "plt.legend()\n",
    "plt.grid(True)\n",
    "plt.show()\n",
    "\n",
    "# Plot Throttle & Brake Overlay\n",
    "fig, ax1 = plt.subplots(figsize=(12,6))\n",
    "ax1.plot(ver_tel['Distance'], ver_tel['Throttle'], label=\"Verstappen Throttle\", color='red')\n",
    "ax1.plot(ham_tel['Distance'], ham_tel['Throttle'], label=\"Hamilton Throttle\", color='blue', linestyle='--')\n",
    "ax1.set_xlabel(\"Lap Distance (m)\")\n",
    "ax1.set_ylabel(\"Throttle (%)\")\n",
    "\n",
    "ax2 = ax1.twinx()\n",
    "ax2.plot(ver_tel['Distance'], ver_tel['Brake'], label=\"Verstappen Brake\", color='darkred')\n",
    "ax2.plot(ham_tel['Distance'], ham_tel['Brake'], label=\"Hamilton Brake\", color='navy', linestyle='--')\n",
    "ax2.set_ylabel(\"Brake (%)\")\n",
    "\n",
    "# Combine legends\n",
    "lines, labels = ax1.get_legend_handles_labels()\n",
    "lines2, labels2 = ax2.get_legend_handles_labels()\n",
    "ax1.legend(lines + lines2, labels + labels2, loc='upper right')\n",
    "\n",
    "plt.title(\"Throttle & Brake Overlay – Fastest Laps\")\n",
    "plt.show()"
   ]
  },
  {
   "cell_type": "code",
   "execution_count": null,
   "id": "6b006743-5248-4baf-8980-021ab99ddcea",
   "metadata": {},
   "outputs": [],
   "source": []
  },
  {
   "cell_type": "code",
   "execution_count": null,
   "id": "46c9aab3-a9ef-44fd-9172-7f1f369f36e3",
   "metadata": {},
   "outputs": [],
   "source": []
  }
 ],
 "metadata": {
  "kernelspec": {
   "display_name": "Python 3 (ipykernel)",
   "language": "python",
   "name": "python3"
  },
  "language_info": {
   "codemirror_mode": {
    "name": "ipython",
    "version": 3
   },
   "file_extension": ".py",
   "mimetype": "text/x-python",
   "name": "python",
   "nbconvert_exporter": "python",
   "pygments_lexer": "ipython3",
   "version": "3.13.6"
  }
 },
 "nbformat": 4,
 "nbformat_minor": 5
}
